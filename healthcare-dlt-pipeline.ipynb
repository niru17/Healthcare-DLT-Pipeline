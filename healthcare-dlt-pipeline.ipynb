{
 "cells": [
  {
   "cell_type": "code",
   "execution_count": 0,
   "metadata": {
    "application/vnd.databricks.v1+cell": {
     "cellMetadata": {
      "byteLimit": 2048000,
      "implicitDf": true,
      "rowLimit": 10000
     },
     "inputWidgets": {},
     "nuid": "54100afe-3a4c-4557-a22a-80130d67514c",
     "showTitle": false,
     "tableResultSettingsMap": {},
     "title": ""
    }
   },
   "outputs": [],
   "source": [
    "CREATE LIVE TABLE diagnostic_mapping\n",
    "COMMENT \"Bronze table for diagnostic map\"\n",
    "TBLPROPERTIES (\"quality\"=\"bronze\")\n",
    "AS\n",
    "SELECT * FROM incremental_load.default.raw_diagnosis_map"
   ]
  },
  {
   "cell_type": "code",
   "execution_count": 0,
   "metadata": {
    "application/vnd.databricks.v1+cell": {
     "cellMetadata": {},
     "inputWidgets": {},
     "nuid": "b5744f56-6084-4cfa-a4bf-ec6a5a0cd339",
     "showTitle": false,
     "tableResultSettingsMap": {},
     "title": ""
    }
   },
   "outputs": [],
   "source": [
    "CREATE OR REFRESH STREAMING TABLE daily_patients\n",
    "COMMENT \"Bronze table for daily patients\"\n",
    "TBLPROPERTIES (\"quality\"=\"bronze\")\n",
    "AS\n",
    "SELECT * FROM STREAM(incremental_load.default.raw_daily_patients)"
   ]
  },
  {
   "cell_type": "code",
   "execution_count": 0,
   "metadata": {
    "application/vnd.databricks.v1+cell": {
     "cellMetadata": {},
     "inputWidgets": {},
     "nuid": "ebe1c483-1d29-4036-a59a-4726f8d4b932",
     "showTitle": false,
     "tableResultSettingsMap": {},
     "title": ""
    }
   },
   "outputs": [],
   "source": [
    "CREATE OR REFRESH STREAMING TABLE processed_patients_data\n",
    "COMMENT \"Silver table for processed patients data\"\n",
    "TBLPROPERTIES (\"quality\"=\"silver\")\n",
    "AS\n",
    "SELECT\n",
    "  p.patient_id,\n",
    "  p.name,\n",
    "  p.age,\n",
    "  p.gender,\n",
    "  p.address,\n",
    "  p.contact_number,\n",
    "  p.admission_date,\n",
    "  m.diagnosis_description\n",
    "FROM STREAM(live.daily_patients) p\n",
    "LEFT JOIN live.diagnostic_mapping m\n",
    "ON p.diagnosis_code = m.diagnosis_code;"
   ]
  },
  {
   "cell_type": "code",
   "execution_count": 0,
   "metadata": {
    "application/vnd.databricks.v1+cell": {
     "cellMetadata": {},
     "inputWidgets": {},
     "nuid": "b4fd7e66-b3ae-4f18-93df-13fd4e00454e",
     "showTitle": false,
     "tableResultSettingsMap": {},
     "title": ""
    }
   },
   "outputs": [],
   "source": [
    "CREATE LIVE TABLE patient_statistics_by_diagnosis\n",
    "COMMENT \"Gold table for patient statistics by diagnosis\"\n",
    "TBLPROPERTIES (\"quality\"=\"gold\")\n",
    "AS\n",
    "SELECT\n",
    "  diagnosis_description,\n",
    "  COUNT(patient_id) as patient_count,\n",
    "  AVG(age) as avg_age,\n",
    "  COUNT(DISTINCT gender) as unique_gender_count,\n",
    "  MIN(age) as min_age,\n",
    "  MAX(age) as max_age\n",
    "FROM live.processed_patients_data\n",
    "GROUP BY diagnosis_description;"
   ]
  },
  {
   "cell_type": "code",
   "execution_count": 0,
   "metadata": {
    "application/vnd.databricks.v1+cell": {
     "cellMetadata": {},
     "inputWidgets": {},
     "nuid": "07a217ab-6f6d-4b09-a847-5576d238b75c",
     "showTitle": false,
     "tableResultSettingsMap": {},
     "title": ""
    }
   },
   "outputs": [],
   "source": [
    "CREATE LIVE TABLE patient_statistic_by_gender\n",
    "COMMENT \"Gold table for patient statistics by gender\"\n",
    "TBLPROPERTIES (\"quality\"=\"gold\")\n",
    "AS\n",
    "SELECT\n",
    "  gender,\n",
    "  COUNT(patient_id) as patient_count,\n",
    "  AVG(age) as avg_age,\n",
    "  COUNT(DISTINCT diagnosis_description) as unique_diagnosis_count,\n",
    "  MIN(age) as min_age,\n",
    "  MAX(age) as max_age\n",
    "FROM live.processed_patients_data\n",
    "GROUP BY gender;"
   ]
  }
 ],
 "metadata": {
  "application/vnd.databricks.v1+notebook": {
   "computePreferences": null,
   "dashboards": [],
   "environmentMetadata": {
    "base_environment": "",
    "environment_version": "2"
   },
   "inputWidgetPreferences": null,
   "language": "sql",
   "notebookMetadata": {
    "mostRecentlyExecutedCommandWithImplicitDF": {
     "commandId": 6064173726321207,
     "dataframes": [
      "_sqldf"
     ]
    },
    "pythonIndentUnit": 4
   },
   "notebookName": "healthcare-dlt-pipeline",
   "widgets": {}
  },
  "language_info": {
   "name": "sql"
  }
 },
 "nbformat": 4,
 "nbformat_minor": 0
}
