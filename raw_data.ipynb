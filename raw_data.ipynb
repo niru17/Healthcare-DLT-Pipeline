{
 "cells": [
  {
   "cell_type": "code",
   "execution_count": 0,
   "metadata": {
    "application/vnd.databricks.v1+cell": {
     "cellMetadata": {
      "byteLimit": 2048000,
      "rowLimit": 10000
     },
     "inputWidgets": {},
     "nuid": "467a6cde-4c83-42b1-b4b3-28cdf129319e",
     "showTitle": false,
     "tableResultSettingsMap": {},
     "title": ""
    }
   },
   "outputs": [],
   "source": [
    "diagnosis_df=spark.read.csv(\"/Volumes/incremental_load/default/dlt_raw_data/diagnosis_mapping.csv\",header=True,inferSchema=True)\n",
    "display(diagnosis_df)\n",
    "diagnosis_df.write.format(\"delta\").mode(\"overwrite\").saveAsTable(\"incremental_load.default.raw_diagnosis_map\")"
   ]
  },
  {
   "cell_type": "code",
   "execution_count": 0,
   "metadata": {
    "application/vnd.databricks.v1+cell": {
     "cellMetadata": {
      "byteLimit": 2048000,
      "rowLimit": 10000
     },
     "inputWidgets": {},
     "nuid": "d55fb5d7-9679-4d40-9d9c-fdeca723a9f7",
     "showTitle": false,
     "tableResultSettingsMap": {},
     "title": ""
    }
   },
   "outputs": [],
   "source": [
    "path1=\"/Volumes/incremental_load/default/dlt_raw_data/patients_daily_file_1_2024.csv\"\n",
    "path2=\"/Volumes/incremental_load/default/dlt_raw_data/patients_daily_file_2_2024.csv\"\n",
    "path3=\"/Volumes/incremental_load/default/dlt_raw_data/patients_daily_file_3_2024.csv\"\n",
    "\n",
    "df=spark.read.csv(path,header=True,inferSchema=True)\n",
    "daily_df=df.withColumn(\"admission_date\",df['admission_date'].cast('date'))\n",
    "\n",
    "display(daily_df)\n",
    "daily_df.write.format(\"delta\").mode(\"overwrite\").saveAsTable(\"incremental_load.default.raw_daily_patients\")\n",
    "\n"
   ]
  }
 ],
 "metadata": {
  "application/vnd.databricks.v1+notebook": {
   "computePreferences": null,
   "dashboards": [],
   "environmentMetadata": {
    "base_environment": "",
    "environment_version": "2"
   },
   "inputWidgetPreferences": null,
   "language": "python",
   "notebookMetadata": {
    "pythonIndentUnit": 4
   },
   "notebookName": "raw_data",
   "widgets": {}
  },
  "language_info": {
   "name": "python"
  }
 },
 "nbformat": 4,
 "nbformat_minor": 0
}
